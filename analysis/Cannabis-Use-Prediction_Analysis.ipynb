{
 "cells": [
  {
   "cell_type": "markdown",
   "metadata": {},
   "source": [
    "## **Cannabis Use Prediction**\n",
    "## **Summary** \n",
    "This project aims to predict cannabis use based on demographic patterns, personality traits, and nicotine use. A survey collected between 2011 to 2012 of 1885 respondents from the UCI Machine Learning repository was used as the main sample. By using age, gender, education, Big Five personality traits, and nicotine use as predictors, we predicted how likely an individual is to use cannabis. Based on the analysis, we were able to predict an individual's probability of using cannabis with a 79% accuracy rate, using a 5-fold cross-validation and a K-nearest neighbors classification algorithm with 23 neighbors. The findings suggest that the algorithm can be used in the future with a satisfactorily high degree of certainty in regards to its outputs.\n",
    "\n",
    "## **Introduction**\n",
    "\n",
    "Cannabis is a drug derived from the plant Cannabis. Commonly smoked, it can alter mental and physical states. With more and more governments around the globe legalizing recreational and/or medical cannabis use in recent years, its popularity has surged.  \n",
    "Meanwhile, nicotine is commonly consumed by smoking and alters the mood. Given that nicotine is consumed in a similar way and also in a similar context as cannabis, we wonder if there is a relationship between the use of those drugs. This provokes the idea of determining what demographic patterns such as age and ethnicity there are among the people who have followed this trend.  Furthermore, personality traits, specifically those in the Five Factor Model of personality (i.e. openness, conscientiousness, extraversion, agreeableness, and neuroticism) have been shown to contribute to a person’s drug usage. \n",
    "According to Digman (1990), these traits can be described as follows: openness refers to a preference for novelty, conscientiousness explains one's tendency to be organized and careful, extraversion refers to one's preference for being in the company of others, agreeableness is a measure of one's level of agreement with others and neuroticism indicates a predisposition to experience stress and negative emotions. Marijuana use is commonly seen in people having high openness (Oscore), low agreeableness (Ascore), low extraversion (Escore) and average neuroticism (Nscore), whereas smokers in general have a higher neuroticism (Nscore), lower agreeableness (Ascore), and lower conscientiousness (Cscore) (Terracciano et al. , 2008). Furthermore, it has been found that a high level of neuroticism (Nscore) and low scores on agreeableness (Ascore) and conscientiousness (Cscore) are associated with addictive behaviour – these individuals have been described as more likely to experience negative emotions (high neuroticism), more likely to act on impulses, and engage in careless behaviour (low conscientiousness), as well as be more likely to stick to their own opinions (low agreeableness) (Dash et al., 2019).\n",
    "\n",
    "Thus, we pose the question, can we predict cannabis use based on demographics, the Big Five personality traits, and nicotine use?\n",
    "We chose to use the drug consumption dataset from the UCI Machine Learning repository. The dataset is a survey collected between 2011 to 2012 of 1885 respondents questioned about their usage of 18 drugs (Fehrman et al. 2017). The survey also collected information about their personality (NEO-FFI-R, BIS-11, ImpSS) and demographics (level of education, age, country of residence, ethnicity, and gender).\n",
    "\n",
    "\n",
    "\n"
   ]
  },
  {
   "cell_type": "markdown",
   "metadata": {},
   "source": [
    "## **Methods & Results**\n",
    "\n",
    "We conducted our data analysis by using demographics (columns Age, Gender, Education),  scores of each of the Big Five personality traits (columns Oscore, Cscore, Escore, Ascore, Nscore), and nicotine use (column Nicotine) as the predictors. Based on these variables, we attempted to predict how likely an individual is to use cannabis (column Cannabis), our target variable. \n",
    "We chose not to use Ethnicity, Country, BIS-11, ImpSS, and the other drugs’ consumptions as predictors and only focused on nicotine usage. We decided to omit ethnicity and country because the data set included a very limited variety of answers in those two variables (e.g. far too often returning White for ethnicity). Furthermore, since most of the literature we found about the relationship between drug use and personality included only Big Five Personality traits, we opted for omitting the other measures of personality. In using 8 predictors, we aimed to balance obtaining a meaningful insight from our data (by increasing our number of predictors) while also limiting the amount of variables to simplify the scope of our report (by decreasing our number of predictors). Previous research has shown correlations between personality and drug usage and thus, we believe that the Big Five Personality Traits, prior nicotine use, and demographics like age and gender would certainly play a role in cannabis use.\n",
    "Lastly, in order to perform a more focused analysis, we decided to choose only two drugs to concentrate on: nicotine and cannabis. As mentioned before, this choice was guided by the fact that these two drugs are similar in terms of context and method of use. \n"
   ]
  },
  {
   "cell_type": "code",
   "execution_count": 2,
   "metadata": {},
   "outputs": [
    {
     "name": "stderr",
     "output_type": "stream",
     "text": [
      "── \u001b[1mAttaching packages\u001b[22m ─────────────────────────────────────── tidyverse 1.3.0 ──\n",
      "\n",
      "\u001b[32m✔\u001b[39m \u001b[34mggplot2\u001b[39m 3.3.2     \u001b[32m✔\u001b[39m \u001b[34mpurrr  \u001b[39m 0.3.4\n",
      "\u001b[32m✔\u001b[39m \u001b[34mtibble \u001b[39m 3.0.3     \u001b[32m✔\u001b[39m \u001b[34mdplyr  \u001b[39m 1.0.2\n",
      "\u001b[32m✔\u001b[39m \u001b[34mtidyr  \u001b[39m 1.1.2     \u001b[32m✔\u001b[39m \u001b[34mstringr\u001b[39m 1.4.0\n",
      "\u001b[32m✔\u001b[39m \u001b[34mreadr  \u001b[39m 1.3.1     \u001b[32m✔\u001b[39m \u001b[34mforcats\u001b[39m 0.5.0\n",
      "\n",
      "Warning message:\n",
      "“package ‘ggplot2’ was built under R version 4.0.1”\n",
      "Warning message:\n",
      "“package ‘tibble’ was built under R version 4.0.2”\n",
      "Warning message:\n",
      "“package ‘tidyr’ was built under R version 4.0.2”\n",
      "Warning message:\n",
      "“package ‘dplyr’ was built under R version 4.0.2”\n",
      "── \u001b[1mConflicts\u001b[22m ────────────────────────────────────────── tidyverse_conflicts() ──\n",
      "\u001b[31m✖\u001b[39m \u001b[34mdplyr\u001b[39m::\u001b[32mfilter()\u001b[39m masks \u001b[34mstats\u001b[39m::filter()\n",
      "\u001b[31m✖\u001b[39m \u001b[34mdplyr\u001b[39m::\u001b[32mlag()\u001b[39m    masks \u001b[34mstats\u001b[39m::lag()\n",
      "\n",
      "Warning message:\n",
      "“package ‘tidymodels’ was built under R version 4.0.2”\n",
      "── \u001b[1mAttaching packages\u001b[22m ────────────────────────────────────── tidymodels 0.1.1 ──\n",
      "\n",
      "\u001b[32m✔\u001b[39m \u001b[34mbroom    \u001b[39m 0.7.0      \u001b[32m✔\u001b[39m \u001b[34mrecipes  \u001b[39m 0.1.13\n",
      "\u001b[32m✔\u001b[39m \u001b[34mdials    \u001b[39m 0.0.9      \u001b[32m✔\u001b[39m \u001b[34mrsample  \u001b[39m 0.0.7 \n",
      "\u001b[32m✔\u001b[39m \u001b[34minfer    \u001b[39m 0.5.4      \u001b[32m✔\u001b[39m \u001b[34mtune     \u001b[39m 0.1.1 \n",
      "\u001b[32m✔\u001b[39m \u001b[34mmodeldata\u001b[39m 0.0.2      \u001b[32m✔\u001b[39m \u001b[34mworkflows\u001b[39m 0.2.0 \n",
      "\u001b[32m✔\u001b[39m \u001b[34mparsnip  \u001b[39m 0.1.3      \u001b[32m✔\u001b[39m \u001b[34myardstick\u001b[39m 0.0.7 \n",
      "\n",
      "Warning message:\n",
      "“package ‘broom’ was built under R version 4.0.2”\n",
      "Warning message:\n",
      "“package ‘dials’ was built under R version 4.0.2”\n",
      "Warning message:\n",
      "“package ‘infer’ was built under R version 4.0.3”\n",
      "Warning message:\n",
      "“package ‘modeldata’ was built under R version 4.0.1”\n",
      "Warning message:\n",
      "“package ‘parsnip’ was built under R version 4.0.2”\n",
      "Warning message:\n",
      "“package ‘recipes’ was built under R version 4.0.1”\n",
      "Warning message:\n",
      "“package ‘tune’ was built under R version 4.0.2”\n",
      "Warning message:\n",
      "“package ‘workflows’ was built under R version 4.0.2”\n",
      "Warning message:\n",
      "“package ‘yardstick’ was built under R version 4.0.2”\n",
      "── \u001b[1mConflicts\u001b[22m ───────────────────────────────────────── tidymodels_conflicts() ──\n",
      "\u001b[31m✖\u001b[39m \u001b[34mscales\u001b[39m::\u001b[32mdiscard()\u001b[39m masks \u001b[34mpurrr\u001b[39m::discard()\n",
      "\u001b[31m✖\u001b[39m \u001b[34mdplyr\u001b[39m::\u001b[32mfilter()\u001b[39m   masks \u001b[34mstats\u001b[39m::filter()\n",
      "\u001b[31m✖\u001b[39m \u001b[34mrecipes\u001b[39m::\u001b[32mfixed()\u001b[39m  masks \u001b[34mstringr\u001b[39m::fixed()\n",
      "\u001b[31m✖\u001b[39m \u001b[34mdplyr\u001b[39m::\u001b[32mlag()\u001b[39m      masks \u001b[34mstats\u001b[39m::lag()\n",
      "\u001b[31m✖\u001b[39m \u001b[34myardstick\u001b[39m::\u001b[32mspec()\u001b[39m masks \u001b[34mreadr\u001b[39m::spec()\n",
      "\u001b[31m✖\u001b[39m \u001b[34mrecipes\u001b[39m::\u001b[32mstep()\u001b[39m   masks \u001b[34mstats\u001b[39m::step()\n",
      "\n"
     ]
    }
   ],
   "source": [
    "#load the necessary libraries.\n",
    "library(tidyverse)\n",
    "library(tidymodels)\n",
    "library(repr)\n",
    "library(dplyr)\n",
    "library(tidyr)"
   ]
  },
  {
   "cell_type": "code",
   "execution_count": 4,
   "metadata": {},
   "outputs": [
    {
     "name": "stderr",
     "output_type": "stream",
     "text": [
      "Warning message:\n",
      "“Duplicated column names deduplicated: 'CL2' => 'CL2_1' [17], 'CL0' => 'CL0_1' [19], 'CL5' => 'CL5_1' [20], 'CL0' => 'CL0_2' [21], 'CL0' => 'CL0_3' [22], 'CL0' => 'CL0_4' [23], 'CL0' => 'CL0_5' [24], 'CL0' => 'CL0_6' [25], 'CL0' => 'CL0_7' [26], 'CL0' => 'CL0_8' [27], 'CL0' => 'CL0_9' [28], 'CL0' => 'CL0_10' [29], 'CL2' => 'CL2_2' [30], 'CL0' => 'CL0_11' [31], 'CL0' => 'CL0_12' [32]”\n",
      "Parsed with column specification:\n",
      "cols(\n",
      "  .default = col_character(),\n",
      "  `1` = \u001b[32mcol_double()\u001b[39m,\n",
      "  `0.49788` = \u001b[32mcol_double()\u001b[39m,\n",
      "  `0.48246` = \u001b[32mcol_double()\u001b[39m,\n",
      "  `-0.05921` = \u001b[32mcol_double()\u001b[39m,\n",
      "  `0.96082` = \u001b[32mcol_double()\u001b[39m,\n",
      "  `0.12600` = \u001b[32mcol_double()\u001b[39m,\n",
      "  `0.31287` = \u001b[32mcol_double()\u001b[39m,\n",
      "  `-0.57545` = \u001b[32mcol_double()\u001b[39m,\n",
      "  `-0.58331` = \u001b[32mcol_double()\u001b[39m,\n",
      "  `-0.91699` = \u001b[32mcol_double()\u001b[39m,\n",
      "  `-0.00665` = \u001b[32mcol_double()\u001b[39m,\n",
      "  `-0.21712` = \u001b[32mcol_double()\u001b[39m,\n",
      "  `-1.18084` = \u001b[32mcol_double()\u001b[39m\n",
      ")\n",
      "\n",
      "See spec(...) for full column specifications.\n",
      "\n"
     ]
    },
    {
     "data": {
      "text/html": [
       "<table>\n",
       "<caption>A tibble: 6 × 32</caption>\n",
       "<thead>\n",
       "\t<tr><th scope=col>ID</th><th scope=col>Age</th><th scope=col>Gender</th><th scope=col>Education</th><th scope=col>Country</th><th scope=col>Ethnicity</th><th scope=col>Nscore</th><th scope=col>Escore</th><th scope=col>Oscore</th><th scope=col>Ascore</th><th scope=col>⋯</th><th scope=col>Ecstasy</th><th scope=col>Heroin</th><th scope=col>Ketamine</th><th scope=col>Legalh</th><th scope=col>LSD</th><th scope=col>Meth</th><th scope=col>Mushrooms</th><th scope=col>Nicotine</th><th scope=col>Semer</th><th scope=col>VSA</th></tr>\n",
       "\t<tr><th scope=col>&lt;dbl&gt;</th><th scope=col>&lt;dbl&gt;</th><th scope=col>&lt;dbl&gt;</th><th scope=col>&lt;dbl&gt;</th><th scope=col>&lt;dbl&gt;</th><th scope=col>&lt;dbl&gt;</th><th scope=col>&lt;dbl&gt;</th><th scope=col>&lt;dbl&gt;</th><th scope=col>&lt;dbl&gt;</th><th scope=col>&lt;dbl&gt;</th><th scope=col>⋯</th><th scope=col>&lt;chr&gt;</th><th scope=col>&lt;chr&gt;</th><th scope=col>&lt;chr&gt;</th><th scope=col>&lt;chr&gt;</th><th scope=col>&lt;chr&gt;</th><th scope=col>&lt;chr&gt;</th><th scope=col>&lt;chr&gt;</th><th scope=col>&lt;chr&gt;</th><th scope=col>&lt;chr&gt;</th><th scope=col>&lt;chr&gt;</th></tr>\n",
       "</thead>\n",
       "<tbody>\n",
       "\t<tr><td>2</td><td>-0.07854</td><td>-0.48246</td><td> 1.98437</td><td> 0.96082</td><td>-0.31685</td><td>-0.67825</td><td> 1.93886</td><td> 1.43533</td><td> 0.76096</td><td>⋯</td><td>CL4</td><td>CL0</td><td>CL2</td><td>CL0</td><td>CL2</td><td>CL3</td><td>CL0</td><td>CL4</td><td>CL0</td><td>CL0</td></tr>\n",
       "\t<tr><td>3</td><td> 0.49788</td><td>-0.48246</td><td>-0.05921</td><td> 0.96082</td><td>-0.31685</td><td>-0.46725</td><td> 0.80523</td><td>-0.84732</td><td>-1.62090</td><td>⋯</td><td>CL0</td><td>CL0</td><td>CL0</td><td>CL0</td><td>CL0</td><td>CL0</td><td>CL1</td><td>CL0</td><td>CL0</td><td>CL0</td></tr>\n",
       "\t<tr><td>4</td><td>-0.95197</td><td> 0.48246</td><td> 1.16365</td><td> 0.96082</td><td>-0.31685</td><td>-0.14882</td><td>-0.80615</td><td>-0.01928</td><td> 0.59042</td><td>⋯</td><td>CL0</td><td>CL0</td><td>CL2</td><td>CL0</td><td>CL0</td><td>CL0</td><td>CL0</td><td>CL2</td><td>CL0</td><td>CL0</td></tr>\n",
       "\t<tr><td>5</td><td> 0.49788</td><td> 0.48246</td><td> 1.98437</td><td> 0.96082</td><td>-0.31685</td><td> 0.73545</td><td>-1.63340</td><td>-0.45174</td><td>-0.30172</td><td>⋯</td><td>CL1</td><td>CL0</td><td>CL0</td><td>CL1</td><td>CL0</td><td>CL0</td><td>CL2</td><td>CL2</td><td>CL0</td><td>CL0</td></tr>\n",
       "\t<tr><td>6</td><td> 2.59171</td><td> 0.48246</td><td>-1.22751</td><td> 0.24923</td><td>-0.31685</td><td>-0.67825</td><td>-0.30033</td><td>-1.55521</td><td> 2.03972</td><td>⋯</td><td>CL0</td><td>CL0</td><td>CL0</td><td>CL0</td><td>CL0</td><td>CL0</td><td>CL0</td><td>CL6</td><td>CL0</td><td>CL0</td></tr>\n",
       "\t<tr><td>7</td><td> 1.09449</td><td>-0.48246</td><td> 1.16365</td><td>-0.57009</td><td>-0.31685</td><td>-0.46725</td><td>-1.09207</td><td>-0.45174</td><td>-0.30172</td><td>⋯</td><td>CL0</td><td>CL0</td><td>CL0</td><td>CL0</td><td>CL0</td><td>CL0</td><td>CL0</td><td>CL6</td><td>CL0</td><td>CL0</td></tr>\n",
       "</tbody>\n",
       "</table>\n"
      ],
      "text/latex": [
       "A tibble: 6 × 32\n",
       "\\begin{tabular}{lllllllllllllllllllll}\n",
       " ID & Age & Gender & Education & Country & Ethnicity & Nscore & Escore & Oscore & Ascore & ⋯ & Ecstasy & Heroin & Ketamine & Legalh & LSD & Meth & Mushrooms & Nicotine & Semer & VSA\\\\\n",
       " <dbl> & <dbl> & <dbl> & <dbl> & <dbl> & <dbl> & <dbl> & <dbl> & <dbl> & <dbl> & ⋯ & <chr> & <chr> & <chr> & <chr> & <chr> & <chr> & <chr> & <chr> & <chr> & <chr>\\\\\n",
       "\\hline\n",
       "\t 2 & -0.07854 & -0.48246 &  1.98437 &  0.96082 & -0.31685 & -0.67825 &  1.93886 &  1.43533 &  0.76096 & ⋯ & CL4 & CL0 & CL2 & CL0 & CL2 & CL3 & CL0 & CL4 & CL0 & CL0\\\\\n",
       "\t 3 &  0.49788 & -0.48246 & -0.05921 &  0.96082 & -0.31685 & -0.46725 &  0.80523 & -0.84732 & -1.62090 & ⋯ & CL0 & CL0 & CL0 & CL0 & CL0 & CL0 & CL1 & CL0 & CL0 & CL0\\\\\n",
       "\t 4 & -0.95197 &  0.48246 &  1.16365 &  0.96082 & -0.31685 & -0.14882 & -0.80615 & -0.01928 &  0.59042 & ⋯ & CL0 & CL0 & CL2 & CL0 & CL0 & CL0 & CL0 & CL2 & CL0 & CL0\\\\\n",
       "\t 5 &  0.49788 &  0.48246 &  1.98437 &  0.96082 & -0.31685 &  0.73545 & -1.63340 & -0.45174 & -0.30172 & ⋯ & CL1 & CL0 & CL0 & CL1 & CL0 & CL0 & CL2 & CL2 & CL0 & CL0\\\\\n",
       "\t 6 &  2.59171 &  0.48246 & -1.22751 &  0.24923 & -0.31685 & -0.67825 & -0.30033 & -1.55521 &  2.03972 & ⋯ & CL0 & CL0 & CL0 & CL0 & CL0 & CL0 & CL0 & CL6 & CL0 & CL0\\\\\n",
       "\t 7 &  1.09449 & -0.48246 &  1.16365 & -0.57009 & -0.31685 & -0.46725 & -1.09207 & -0.45174 & -0.30172 & ⋯ & CL0 & CL0 & CL0 & CL0 & CL0 & CL0 & CL0 & CL6 & CL0 & CL0\\\\\n",
       "\\end{tabular}\n"
      ],
      "text/markdown": [
       "\n",
       "A tibble: 6 × 32\n",
       "\n",
       "| ID &lt;dbl&gt; | Age &lt;dbl&gt; | Gender &lt;dbl&gt; | Education &lt;dbl&gt; | Country &lt;dbl&gt; | Ethnicity &lt;dbl&gt; | Nscore &lt;dbl&gt; | Escore &lt;dbl&gt; | Oscore &lt;dbl&gt; | Ascore &lt;dbl&gt; | ⋯ ⋯ | Ecstasy &lt;chr&gt; | Heroin &lt;chr&gt; | Ketamine &lt;chr&gt; | Legalh &lt;chr&gt; | LSD &lt;chr&gt; | Meth &lt;chr&gt; | Mushrooms &lt;chr&gt; | Nicotine &lt;chr&gt; | Semer &lt;chr&gt; | VSA &lt;chr&gt; |\n",
       "|---|---|---|---|---|---|---|---|---|---|---|---|---|---|---|---|---|---|---|---|---|\n",
       "| 2 | -0.07854 | -0.48246 |  1.98437 |  0.96082 | -0.31685 | -0.67825 |  1.93886 |  1.43533 |  0.76096 | ⋯ | CL4 | CL0 | CL2 | CL0 | CL2 | CL3 | CL0 | CL4 | CL0 | CL0 |\n",
       "| 3 |  0.49788 | -0.48246 | -0.05921 |  0.96082 | -0.31685 | -0.46725 |  0.80523 | -0.84732 | -1.62090 | ⋯ | CL0 | CL0 | CL0 | CL0 | CL0 | CL0 | CL1 | CL0 | CL0 | CL0 |\n",
       "| 4 | -0.95197 |  0.48246 |  1.16365 |  0.96082 | -0.31685 | -0.14882 | -0.80615 | -0.01928 |  0.59042 | ⋯ | CL0 | CL0 | CL2 | CL0 | CL0 | CL0 | CL0 | CL2 | CL0 | CL0 |\n",
       "| 5 |  0.49788 |  0.48246 |  1.98437 |  0.96082 | -0.31685 |  0.73545 | -1.63340 | -0.45174 | -0.30172 | ⋯ | CL1 | CL0 | CL0 | CL1 | CL0 | CL0 | CL2 | CL2 | CL0 | CL0 |\n",
       "| 6 |  2.59171 |  0.48246 | -1.22751 |  0.24923 | -0.31685 | -0.67825 | -0.30033 | -1.55521 |  2.03972 | ⋯ | CL0 | CL0 | CL0 | CL0 | CL0 | CL0 | CL0 | CL6 | CL0 | CL0 |\n",
       "| 7 |  1.09449 | -0.48246 |  1.16365 | -0.57009 | -0.31685 | -0.46725 | -1.09207 | -0.45174 | -0.30172 | ⋯ | CL0 | CL0 | CL0 | CL0 | CL0 | CL0 | CL0 | CL6 | CL0 | CL0 |\n",
       "\n"
      ],
      "text/plain": [
       "  ID Age      Gender   Education Country  Ethnicity Nscore   Escore   Oscore  \n",
       "1 2  -0.07854 -0.48246  1.98437   0.96082 -0.31685  -0.67825  1.93886  1.43533\n",
       "2 3   0.49788 -0.48246 -0.05921   0.96082 -0.31685  -0.46725  0.80523 -0.84732\n",
       "3 4  -0.95197  0.48246  1.16365   0.96082 -0.31685  -0.14882 -0.80615 -0.01928\n",
       "4 5   0.49788  0.48246  1.98437   0.96082 -0.31685   0.73545 -1.63340 -0.45174\n",
       "5 6   2.59171  0.48246 -1.22751   0.24923 -0.31685  -0.67825 -0.30033 -1.55521\n",
       "6 7   1.09449 -0.48246  1.16365  -0.57009 -0.31685  -0.46725 -1.09207 -0.45174\n",
       "  Ascore   ⋯ Ecstasy Heroin Ketamine Legalh LSD Meth Mushrooms Nicotine Semer\n",
       "1  0.76096 ⋯ CL4     CL0    CL2      CL0    CL2 CL3  CL0       CL4      CL0  \n",
       "2 -1.62090 ⋯ CL0     CL0    CL0      CL0    CL0 CL0  CL1       CL0      CL0  \n",
       "3  0.59042 ⋯ CL0     CL0    CL2      CL0    CL0 CL0  CL0       CL2      CL0  \n",
       "4 -0.30172 ⋯ CL1     CL0    CL0      CL1    CL0 CL0  CL2       CL2      CL0  \n",
       "5  2.03972 ⋯ CL0     CL0    CL0      CL0    CL0 CL0  CL0       CL6      CL0  \n",
       "6 -0.30172 ⋯ CL0     CL0    CL0      CL0    CL0 CL0  CL0       CL6      CL0  \n",
       "  VSA\n",
       "1 CL0\n",
       "2 CL0\n",
       "3 CL0\n",
       "4 CL0\n",
       "5 CL0\n",
       "6 CL0"
      ]
     },
     "metadata": {},
     "output_type": "display_data"
    }
   ],
   "source": [
    "raw_data <-read_csv(\"https://archive.ics.uci.edu/ml/machine-learning-databases/00373/drug_consumption.data\")\n",
    "\n",
    "#add column names to dataset since none in original data set\n",
    "colnames(raw_data) <- c(\"ID\", \"Age\", \"Gender\", \"Education\", \"Country\", \"Ethnicity\", \"Nscore\", \"Escore\", \"Oscore\", \"Ascore\", \"Cscore\", \"Impulsive\", \"SS\", \"Alcohol\", \"Amphet\",\n",
    "                         \"Amyl\", \"Benzos\", \"Caff\", \"Cannabis\", \"Choc\", \"Coke\", \"Crack\", \"Ecstasy\", \"Heroin\", \"Ketamine\", \"Legalh\", \"LSD\", \"Meth\", \"Mushrooms\", \"Nicotine\", \"Semer\",\n",
    "                         \"VSA\")\n",
    "\n",
    "head(raw_data)"
   ]
  },
  {
   "cell_type": "markdown",
   "metadata": {},
   "source": [
    "Table 1. Summary table of the entire dataset"
   ]
  },
  {
   "cell_type": "markdown",
   "metadata": {},
   "source": [
    "Now, we see that the drug usage is denoted as follows:  \n",
    "CL0: never used the drug  \n",
    "CL1: used the drug over a decade ago;  \n",
    "CL2: used the drug in the last decade;  \n",
    "CL3: used the drug in the last year;  \n",
    "CL4: used the drug in the last month;  \n",
    "CL5: used the drug in the last week;  \n",
    "CL6: used the drug in the last day."
   ]
  },
  {
   "cell_type": "markdown",
   "metadata": {},
   "source": [
    "We assume that someone who used the drug more than a year ago is not to be considered a user, so we will mutate the values CL0, CL1, and CL2 to no (does not use) and the rest to yes (used recently/still using)."
   ]
  },
  {
   "cell_type": "code",
   "execution_count": 5,
   "metadata": {},
   "outputs": [
    {
     "data": {
      "text/html": [
       "<table>\n",
       "<caption>A tibble: 6 × 8</caption>\n",
       "<thead>\n",
       "\t<tr><th scope=col>Age</th><th scope=col>Gender</th><th scope=col>Nscore</th><th scope=col>Escore</th><th scope=col>Oscore</th><th scope=col>Ascore</th><th scope=col>Nicotine</th><th scope=col>Cannabis</th></tr>\n",
       "\t<tr><th scope=col>&lt;dbl&gt;</th><th scope=col>&lt;dbl&gt;</th><th scope=col>&lt;dbl&gt;</th><th scope=col>&lt;dbl&gt;</th><th scope=col>&lt;dbl&gt;</th><th scope=col>&lt;dbl&gt;</th><th scope=col>&lt;chr&gt;</th><th scope=col>&lt;fct&gt;</th></tr>\n",
       "</thead>\n",
       "<tbody>\n",
       "\t<tr><td>-0.07854</td><td>-0.48246</td><td>-0.67825</td><td> 1.93886</td><td> 1.43533</td><td> 0.76096</td><td>yes</td><td>yes</td></tr>\n",
       "\t<tr><td> 0.49788</td><td>-0.48246</td><td>-0.46725</td><td> 0.80523</td><td>-0.84732</td><td>-1.62090</td><td>no </td><td>yes</td></tr>\n",
       "\t<tr><td>-0.95197</td><td> 0.48246</td><td>-0.14882</td><td>-0.80615</td><td>-0.01928</td><td> 0.59042</td><td>no </td><td>no </td></tr>\n",
       "\t<tr><td> 0.49788</td><td> 0.48246</td><td> 0.73545</td><td>-1.63340</td><td>-0.45174</td><td>-0.30172</td><td>no </td><td>yes</td></tr>\n",
       "\t<tr><td> 2.59171</td><td> 0.48246</td><td>-0.67825</td><td>-0.30033</td><td>-1.55521</td><td> 2.03972</td><td>yes</td><td>no </td></tr>\n",
       "\t<tr><td> 1.09449</td><td>-0.48246</td><td>-0.46725</td><td>-1.09207</td><td>-0.45174</td><td>-0.30172</td><td>yes</td><td>no </td></tr>\n",
       "</tbody>\n",
       "</table>\n"
      ],
      "text/latex": [
       "A tibble: 6 × 8\n",
       "\\begin{tabular}{llllllll}\n",
       " Age & Gender & Nscore & Escore & Oscore & Ascore & Nicotine & Cannabis\\\\\n",
       " <dbl> & <dbl> & <dbl> & <dbl> & <dbl> & <dbl> & <chr> & <fct>\\\\\n",
       "\\hline\n",
       "\t -0.07854 & -0.48246 & -0.67825 &  1.93886 &  1.43533 &  0.76096 & yes & yes\\\\\n",
       "\t  0.49788 & -0.48246 & -0.46725 &  0.80523 & -0.84732 & -1.62090 & no  & yes\\\\\n",
       "\t -0.95197 &  0.48246 & -0.14882 & -0.80615 & -0.01928 &  0.59042 & no  & no \\\\\n",
       "\t  0.49788 &  0.48246 &  0.73545 & -1.63340 & -0.45174 & -0.30172 & no  & yes\\\\\n",
       "\t  2.59171 &  0.48246 & -0.67825 & -0.30033 & -1.55521 &  2.03972 & yes & no \\\\\n",
       "\t  1.09449 & -0.48246 & -0.46725 & -1.09207 & -0.45174 & -0.30172 & yes & no \\\\\n",
       "\\end{tabular}\n"
      ],
      "text/markdown": [
       "\n",
       "A tibble: 6 × 8\n",
       "\n",
       "| Age &lt;dbl&gt; | Gender &lt;dbl&gt; | Nscore &lt;dbl&gt; | Escore &lt;dbl&gt; | Oscore &lt;dbl&gt; | Ascore &lt;dbl&gt; | Nicotine &lt;chr&gt; | Cannabis &lt;fct&gt; |\n",
       "|---|---|---|---|---|---|---|---|\n",
       "| -0.07854 | -0.48246 | -0.67825 |  1.93886 |  1.43533 |  0.76096 | yes | yes |\n",
       "|  0.49788 | -0.48246 | -0.46725 |  0.80523 | -0.84732 | -1.62090 | no  | yes |\n",
       "| -0.95197 |  0.48246 | -0.14882 | -0.80615 | -0.01928 |  0.59042 | no  | no  |\n",
       "|  0.49788 |  0.48246 |  0.73545 | -1.63340 | -0.45174 | -0.30172 | no  | yes |\n",
       "|  2.59171 |  0.48246 | -0.67825 | -0.30033 | -1.55521 |  2.03972 | yes | no  |\n",
       "|  1.09449 | -0.48246 | -0.46725 | -1.09207 | -0.45174 | -0.30172 | yes | no  |\n",
       "\n"
      ],
      "text/plain": [
       "  Age      Gender   Nscore   Escore   Oscore   Ascore   Nicotine Cannabis\n",
       "1 -0.07854 -0.48246 -0.67825  1.93886  1.43533  0.76096 yes      yes     \n",
       "2  0.49788 -0.48246 -0.46725  0.80523 -0.84732 -1.62090 no       yes     \n",
       "3 -0.95197  0.48246 -0.14882 -0.80615 -0.01928  0.59042 no       no      \n",
       "4  0.49788  0.48246  0.73545 -1.63340 -0.45174 -0.30172 no       yes     \n",
       "5  2.59171  0.48246 -0.67825 -0.30033 -1.55521  2.03972 yes      no      \n",
       "6  1.09449 -0.48246 -0.46725 -1.09207 -0.45174 -0.30172 yes      no      "
      ]
     },
     "metadata": {},
     "output_type": "display_data"
    }
   ],
   "source": [
    "drugs <- select(raw_data, Age, Gender, Nscore, Escore, Oscore, Ascore, Nicotine, Cannabis) %>% \n",
    "         mutate(Cannabis = str_replace_all(Cannabis, c(\"CL0\" = \"no\", \"CL1\" = \"no\", \"CL2\" = \"no\", \"CL3\" = \"yes\", \"CL4\" = \"yes\", \"CL5\" = \"yes\", \"CL6\" = \"yes\"))) %>%          \n",
    "         mutate(Cannabis = as_factor(Cannabis)) %>% \n",
    "         mutate(Nicotine = str_replace_all(Nicotine, c(\"CL0\" = \"no\", \"CL1\" = \"no\", \"CL2\" = \"no\", \"CL3\" = \"yes\", \"CL4\" = \"yes\", \"CL5\" = \"yes\", \"CL6\" = \"yes\")))\n",
    "\n",
    "head(drugs)"
   ]
  },
  {
   "cell_type": "markdown",
   "metadata": {},
   "source": [
    "Table 2. Summary table of the dataset used in the analysis"
   ]
  },
  {
   "cell_type": "markdown",
   "metadata": {},
   "source": [
    "We used set.seed(1) to make sure results are reproducible. We then split the data into a training and a testing set (75% training, 25% testing), this gives us enough data to train our classifier with, while still giving us 470 testing variables. \n",
    "Furthermore, since nicotine will be used as a predictor, we want the testing set to have nicotine as a numeric variable."
   ]
  },
  {
   "cell_type": "code",
   "execution_count": 7,
   "metadata": {},
   "outputs": [],
   "source": [
    "set.seed(1) \n",
    "\n",
    "split <- initial_split(drugs, prop = 0.75, strata = Cannabis)\n",
    "drug_data <- training(split)\n",
    "testing_drug_data <- testing(split)\n",
    "\n",
    "#Then, since nicotine will be used as a predictor, we want the testing set to have nicotine as a numeric variable\n",
    "testing_drug_data <- mutate(testing_drug_data, Nicotine = str_replace_all(Nicotine, c(\"no\" = \"0\", \"yes\" = \"1\"))) %>% \n",
    "                     mutate(Nicotine = as.numeric(Nicotine))"
   ]
  },
  {
   "cell_type": "markdown",
   "metadata": {},
   "source": [
    "**Data cleaning and wrangling**"
   ]
  },
  {
   "cell_type": "code",
   "execution_count": 70,
   "metadata": {},
   "outputs": [
    {
     "name": "stderr",
     "output_type": "stream",
     "text": [
      "`summarise()` regrouping output by 'Nicotine' (override with `.groups` argument)\n",
      "\n"
     ]
    },
    {
     "data": {
      "text/html": [
       "<table>\n",
       "<caption>A grouped_df: 4 × 4</caption>\n",
       "<thead>\n",
       "\t<tr><th scope=col>Nicotine</th><th scope=col>Cannabis</th><th scope=col>n</th><th scope=col>label</th></tr>\n",
       "\t<tr><th scope=col>&lt;chr&gt;</th><th scope=col>&lt;fct&gt;</th><th scope=col>&lt;int&gt;</th><th scope=col>&lt;chr&gt;</th></tr>\n",
       "</thead>\n",
       "<tbody>\n",
       "\t<tr><td>no </td><td>yes</td><td>144</td><td>Neither      </td></tr>\n",
       "\t<tr><td>no </td><td>no </td><td>475</td><td>Cannabis only</td></tr>\n",
       "\t<tr><td>yes</td><td>yes</td><td>606</td><td>Nicotine only</td></tr>\n",
       "\t<tr><td>yes</td><td>no </td><td>189</td><td>Both         </td></tr>\n",
       "</tbody>\n",
       "</table>\n"
      ],
      "text/latex": [
       "A grouped\\_df: 4 × 4\n",
       "\\begin{tabular}{llll}\n",
       " Nicotine & Cannabis & n & label\\\\\n",
       " <chr> & <fct> & <int> & <chr>\\\\\n",
       "\\hline\n",
       "\t no  & yes & 144 & Neither      \\\\\n",
       "\t no  & no  & 475 & Cannabis only\\\\\n",
       "\t yes & yes & 606 & Nicotine only\\\\\n",
       "\t yes & no  & 189 & Both         \\\\\n",
       "\\end{tabular}\n"
      ],
      "text/markdown": [
       "\n",
       "A grouped_df: 4 × 4\n",
       "\n",
       "| Nicotine &lt;chr&gt; | Cannabis &lt;fct&gt; | n &lt;int&gt; | label &lt;chr&gt; |\n",
       "|---|---|---|---|\n",
       "| no  | yes | 144 | Neither       |\n",
       "| no  | no  | 475 | Cannabis only |\n",
       "| yes | yes | 606 | Nicotine only |\n",
       "| yes | no  | 189 | Both          |\n",
       "\n"
      ],
      "text/plain": [
       "  Nicotine Cannabis n   label        \n",
       "1 no       yes      144 Neither      \n",
       "2 no       no       475 Cannabis only\n",
       "3 yes      yes      606 Nicotine only\n",
       "4 yes      no       189 Both         "
      ]
     },
     "metadata": {},
     "output_type": "display_data"
    }
   ],
   "source": [
    "\n",
    "cannabis_and_nicotine <- group_by(drug_data, Nicotine, Cannabis) %>% \n",
    "                         summarize(n=n())\n",
    "cannabis_and_nicotine$label <- c(\"Neither\", \"Cannabis only\", \"Nicotine only\", \"Both\") #This column will act as labels in the bar graph\n",
    "\n",
    "cannabis_and_nicotine"
   ]
  },
  {
   "cell_type": "markdown",
   "metadata": {},
   "source": [
    "Table 3. Table of the number of individuals (n) that fall into each label"
   ]
  },
  {
   "cell_type": "markdown",
   "metadata": {},
   "source": [
    "### Visualizations"
   ]
  },
  {
   "cell_type": "markdown",
   "metadata": {},
   "source": [
    "First, we are interested in understanding the pattern of cannabis and nicotine consumption in our sample. "
   ]
  },
  {
   "cell_type": "code",
   "execution_count": 71,
   "metadata": {},
   "outputs": [
    {
     "data": {
      "image/png": "[encoded data removed]",
      "text/plain": [
       "plot without title"
      ]
     },
     "metadata": {
      "image/png": {
       "height": 360,
       "width": 480
      }
     },
     "output_type": "display_data"
    }
   ],
   "source": [
    "options(repr.plot.height = 6, repr.plot.width = 8)\n",
    "cannabis_and_nicotine_graph <- ggplot(cannabis_and_nicotine, aes(x = reorder(label, -n), y = n)) +\n",
    "             geom_bar(stat = \"identity\") +\n",
    "             coord_flip() + #flipped coordinates for readbility\n",
    "             labs(x = \"\", y = \"Amount of participants\", title = \"Nicotine usage vs. Cannabis usage\") +\n",
    "             theme(text = element_text(size = 20))\n",
    "\n",
    "cannabis_and_nicotine_graph"
   ]
  },
  {
   "cell_type": "markdown",
   "metadata": {},
   "source": [
    "Figure 1. Horizontal histogram of Nicotine usage vs Cannabis usage. "
   ]
  },
  {
   "cell_type": "markdown",
   "metadata": {},
   "source": [
    "Another relationship that we are interested in exploring is how the personality trait \"Openness\", which measures how willing people are to try new things, plays into marijuana and nicotine consumption. Here, we will make a new column called rate to express the percentage of each group that uses cannabis, as the data has been standardized and looking at raw marijuana user data will simply give us a normal distribution."
   ]
  },
  {
   "cell_type": "code",
   "execution_count": 72,
   "metadata": {},
   "outputs": [
    {
     "name": "stderr",
     "output_type": "stream",
     "text": [
      "`summarise()` regrouping output by 'Oscore', 'Nicotine' (override with `.groups` argument)\n",
      "\n"
     ]
    }
   ],
   "source": [
    "## Here, we will make a new column called rate to express the percentage of each group that uses cannabis, as the data \n",
    "## has been standardized and looking at raw marijuana user data will simply give us a normal distribution.\n",
    "\n",
    "OpenNicWeed <- group_by(drug_data, Oscore, Nicotine, Cannabis) %>%\n",
    "               summarize(n = n()) %>%\n",
    "               pivot_wider(names_from = Cannabis, values_from = n) %>%\n",
    "               replace(is.na(.), 0) %>%  # To make sure 0s don't get read as NAs\n",
    "               mutate(total = yes + no) %>%  # To find rate\n",
    "               mutate(rate = yes / total * 100)\n"
   ]
  },
  {
   "cell_type": "code",
   "execution_count": 73,
   "metadata": {},
   "outputs": [
    {
     "data": {
      "image/png": "[encoded data removed]",
      "text/plain": [
       "plot without title"
      ]
     },
     "metadata": {
      "image/png": {
       "height": 420,
       "width": 540
      }
     },
     "output_type": "display_data"
    }
   ],
   "source": [
    "options(repr.plot.height = 7, repr.plot.width = 9)\n",
    "OpenNicWeed_graph <- ggplot(OpenNicWeed, aes(x = Oscore, y = rate, color = Nicotine)) +\n",
    "                  geom_point() +\n",
    "                  theme(text = element_text(size = 18)) +\n",
    "                  labs(x = \"Openness\", y = \"Percentage of People Who Use Cannabis\", color = \"Use Nicotine\", title = \"Openness vs. Cannabis use\")\n",
    "OpenNicWeed_graph"
   ]
  },
  {
   "cell_type": "markdown",
   "metadata": {},
   "source": [
    "Figure 2. Scatter plot of cannabis use % vs openness. Openness is the standardized personality Oscore."
   ]
  },
  {
   "cell_type": "markdown",
   "metadata": {},
   "source": [
    "We see that the rate of cannabis and nicotine users increases with larger openness scores, and we can also see that there are more people that use both nicotine and cannabis than people who use strictly only cannabis (more blue than red data points)."
   ]
  },
  {
   "cell_type": "code",
   "execution_count": 74,
   "metadata": {},
   "outputs": [
    {
     "data": {
      "text/html": [
       "<table>\n",
       "<caption>A tibble: 6 × 8</caption>\n",
       "<thead>\n",
       "\t<tr><th scope=col>Age</th><th scope=col>Gender</th><th scope=col>Nscore</th><th scope=col>Escore</th><th scope=col>Oscore</th><th scope=col>Ascore</th><th scope=col>Nicotine</th><th scope=col>Cannabis</th></tr>\n",
       "\t<tr><th scope=col>&lt;dbl&gt;</th><th scope=col>&lt;dbl&gt;</th><th scope=col>&lt;dbl&gt;</th><th scope=col>&lt;dbl&gt;</th><th scope=col>&lt;dbl&gt;</th><th scope=col>&lt;dbl&gt;</th><th scope=col>&lt;dbl&gt;</th><th scope=col>&lt;fct&gt;</th></tr>\n",
       "</thead>\n",
       "<tbody>\n",
       "\t<tr><td>-0.07854</td><td>-0.48246</td><td>-0.67825</td><td> 1.93886</td><td> 1.43533</td><td> 0.76096</td><td>1</td><td>yes</td></tr>\n",
       "\t<tr><td> 0.49788</td><td>-0.48246</td><td>-0.46725</td><td> 0.80523</td><td>-0.84732</td><td>-1.62090</td><td>0</td><td>yes</td></tr>\n",
       "\t<tr><td> 2.59171</td><td> 0.48246</td><td>-0.67825</td><td>-0.30033</td><td>-1.55521</td><td> 2.03972</td><td>1</td><td>no </td></tr>\n",
       "\t<tr><td> 1.09449</td><td>-0.48246</td><td>-0.46725</td><td>-1.09207</td><td>-0.45174</td><td>-0.30172</td><td>1</td><td>no </td></tr>\n",
       "\t<tr><td> 0.49788</td><td>-0.48246</td><td>-1.32828</td><td> 1.93886</td><td>-0.84732</td><td>-0.30172</td><td>0</td><td>no </td></tr>\n",
       "\t<tr><td> 0.49788</td><td> 0.48246</td><td> 0.62967</td><td> 2.57309</td><td>-0.97631</td><td> 0.76096</td><td>1</td><td>no </td></tr>\n",
       "</tbody>\n",
       "</table>\n"
      ],
      "text/latex": [
       "A tibble: 6 × 8\n",
       "\\begin{tabular}{llllllll}\n",
       " Age & Gender & Nscore & Escore & Oscore & Ascore & Nicotine & Cannabis\\\\\n",
       " <dbl> & <dbl> & <dbl> & <dbl> & <dbl> & <dbl> & <dbl> & <fct>\\\\\n",
       "\\hline\n",
       "\t -0.07854 & -0.48246 & -0.67825 &  1.93886 &  1.43533 &  0.76096 & 1 & yes\\\\\n",
       "\t  0.49788 & -0.48246 & -0.46725 &  0.80523 & -0.84732 & -1.62090 & 0 & yes\\\\\n",
       "\t  2.59171 &  0.48246 & -0.67825 & -0.30033 & -1.55521 &  2.03972 & 1 & no \\\\\n",
       "\t  1.09449 & -0.48246 & -0.46725 & -1.09207 & -0.45174 & -0.30172 & 1 & no \\\\\n",
       "\t  0.49788 & -0.48246 & -1.32828 &  1.93886 & -0.84732 & -0.30172 & 0 & no \\\\\n",
       "\t  0.49788 &  0.48246 &  0.62967 &  2.57309 & -0.97631 &  0.76096 & 1 & no \\\\\n",
       "\\end{tabular}\n"
      ],
      "text/markdown": [
       "\n",
       "A tibble: 6 × 8\n",
       "\n",
       "| Age &lt;dbl&gt; | Gender &lt;dbl&gt; | Nscore &lt;dbl&gt; | Escore &lt;dbl&gt; | Oscore &lt;dbl&gt; | Ascore &lt;dbl&gt; | Nicotine &lt;dbl&gt; | Cannabis &lt;fct&gt; |\n",
       "|---|---|---|---|---|---|---|---|\n",
       "| -0.07854 | -0.48246 | -0.67825 |  1.93886 |  1.43533 |  0.76096 | 1 | yes |\n",
       "|  0.49788 | -0.48246 | -0.46725 |  0.80523 | -0.84732 | -1.62090 | 0 | yes |\n",
       "|  2.59171 |  0.48246 | -0.67825 | -0.30033 | -1.55521 |  2.03972 | 1 | no  |\n",
       "|  1.09449 | -0.48246 | -0.46725 | -1.09207 | -0.45174 | -0.30172 | 1 | no  |\n",
       "|  0.49788 | -0.48246 | -1.32828 |  1.93886 | -0.84732 | -0.30172 | 0 | no  |\n",
       "|  0.49788 |  0.48246 |  0.62967 |  2.57309 | -0.97631 |  0.76096 | 1 | no  |\n",
       "\n"
      ],
      "text/plain": [
       "  Age      Gender   Nscore   Escore   Oscore   Ascore   Nicotine Cannabis\n",
       "1 -0.07854 -0.48246 -0.67825  1.93886  1.43533  0.76096 1        yes     \n",
       "2  0.49788 -0.48246 -0.46725  0.80523 -0.84732 -1.62090 0        yes     \n",
       "3  2.59171  0.48246 -0.67825 -0.30033 -1.55521  2.03972 1        no      \n",
       "4  1.09449 -0.48246 -0.46725 -1.09207 -0.45174 -0.30172 1        no      \n",
       "5  0.49788 -0.48246 -1.32828  1.93886 -0.84732 -0.30172 0        no      \n",
       "6  0.49788  0.48246  0.62967  2.57309 -0.97631  0.76096 1        no      "
      ]
     },
     "metadata": {},
     "output_type": "display_data"
    }
   ],
   "source": [
    "# Need Nicotine to be numeric and standardized in order to use it\n",
    "\n",
    "drug_data <- mutate(drug_data, Nicotine = str_replace_all(Nicotine, c(\"yes\" = \"1\",\"no\" = \"0\"))) %>% \n",
    "             mutate(Nicotine = as.numeric(Nicotine))\n",
    "\n",
    "head(drug_data)"
   ]
  },
  {
   "cell_type": "markdown",
   "metadata": {},
   "source": [
    "Table 4. Table of used predictors with Nicotine standardized, where Nicotine = 1 indicates nicotine use and Nicotine = 0 indicates no nicotine use."
   ]
  },
  {
   "cell_type": "markdown",
   "metadata": {},
   "source": [
    "### Classification \n",
    "Firstly, we must tune our classifier in order to find the optimal number of neighbours to be used in our model."
   ]
  },
  {
   "cell_type": "code",
   "execution_count": 75,
   "metadata": {},
   "outputs": [
    {
     "data": {
      "text/html": [
       "<table>\n",
       "<caption>A tibble: 6 × 7</caption>\n",
       "<thead>\n",
       "\t<tr><th scope=col>neighbors</th><th scope=col>.metric</th><th scope=col>.estimator</th><th scope=col>mean</th><th scope=col>n</th><th scope=col>std_err</th><th scope=col>.config</th></tr>\n",
       "\t<tr><th scope=col>&lt;int&gt;</th><th scope=col>&lt;chr&gt;</th><th scope=col>&lt;chr&gt;</th><th scope=col>&lt;dbl&gt;</th><th scope=col>&lt;int&gt;</th><th scope=col>&lt;dbl&gt;</th><th scope=col>&lt;chr&gt;</th></tr>\n",
       "</thead>\n",
       "<tbody>\n",
       "\t<tr><td>1</td><td>accuracy</td><td>binary</td><td>0.7510688</td><td>5</td><td>0.006961649</td><td>Model01</td></tr>\n",
       "\t<tr><td>1</td><td>roc_auc </td><td>binary</td><td>0.7500740</td><td>5</td><td>0.007473336</td><td>Model01</td></tr>\n",
       "\t<tr><td>2</td><td>accuracy</td><td>binary</td><td>0.7510688</td><td>5</td><td>0.006961649</td><td>Model02</td></tr>\n",
       "\t<tr><td>2</td><td>roc_auc </td><td>binary</td><td>0.8096468</td><td>5</td><td>0.006340334</td><td>Model02</td></tr>\n",
       "\t<tr><td>3</td><td>accuracy</td><td>binary</td><td>0.7779390</td><td>5</td><td>0.007498276</td><td>Model03</td></tr>\n",
       "\t<tr><td>3</td><td>roc_auc </td><td>binary</td><td>0.8391109</td><td>5</td><td>0.006401714</td><td>Model03</td></tr>\n",
       "</tbody>\n",
       "</table>\n"
      ],
      "text/latex": [
       "A tibble: 6 × 7\n",
       "\\begin{tabular}{lllllll}\n",
       " neighbors & .metric & .estimator & mean & n & std\\_err & .config\\\\\n",
       " <int> & <chr> & <chr> & <dbl> & <int> & <dbl> & <chr>\\\\\n",
       "\\hline\n",
       "\t 1 & accuracy & binary & 0.7510688 & 5 & 0.006961649 & Model01\\\\\n",
       "\t 1 & roc\\_auc  & binary & 0.7500740 & 5 & 0.007473336 & Model01\\\\\n",
       "\t 2 & accuracy & binary & 0.7510688 & 5 & 0.006961649 & Model02\\\\\n",
       "\t 2 & roc\\_auc  & binary & 0.8096468 & 5 & 0.006340334 & Model02\\\\\n",
       "\t 3 & accuracy & binary & 0.7779390 & 5 & 0.007498276 & Model03\\\\\n",
       "\t 3 & roc\\_auc  & binary & 0.8391109 & 5 & 0.006401714 & Model03\\\\\n",
       "\\end{tabular}\n"
      ],
      "text/markdown": [
       "\n",
       "A tibble: 6 × 7\n",
       "\n",
       "| neighbors &lt;int&gt; | .metric &lt;chr&gt; | .estimator &lt;chr&gt; | mean &lt;dbl&gt; | n &lt;int&gt; | std_err &lt;dbl&gt; | .config &lt;chr&gt; |\n",
       "|---|---|---|---|---|---|---|\n",
       "| 1 | accuracy | binary | 0.7510688 | 5 | 0.006961649 | Model01 |\n",
       "| 1 | roc_auc  | binary | 0.7500740 | 5 | 0.007473336 | Model01 |\n",
       "| 2 | accuracy | binary | 0.7510688 | 5 | 0.006961649 | Model02 |\n",
       "| 2 | roc_auc  | binary | 0.8096468 | 5 | 0.006340334 | Model02 |\n",
       "| 3 | accuracy | binary | 0.7779390 | 5 | 0.007498276 | Model03 |\n",
       "| 3 | roc_auc  | binary | 0.8391109 | 5 | 0.006401714 | Model03 |\n",
       "\n"
      ],
      "text/plain": [
       "  neighbors .metric  .estimator mean      n std_err     .config\n",
       "1 1         accuracy binary     0.7510688 5 0.006961649 Model01\n",
       "2 1         roc_auc  binary     0.7500740 5 0.007473336 Model01\n",
       "3 2         accuracy binary     0.7510688 5 0.006961649 Model02\n",
       "4 2         roc_auc  binary     0.8096468 5 0.006340334 Model02\n",
       "5 3         accuracy binary     0.7779390 5 0.007498276 Model03\n",
       "6 3         roc_auc  binary     0.8391109 5 0.006401714 Model03"
      ]
     },
     "metadata": {},
     "output_type": "display_data"
    }
   ],
   "source": [
    "# tuning classifier\n",
    "set.seed(2)\n",
    "drugs_spec <- nearest_neighbor(weight_func = \"rectangular\", neighbors = tune()) %>% \n",
    "              set_engine(\"kknn\") %>% \n",
    "              set_mode(\"classification\")\n",
    "drugs_recipe <- recipe(Cannabis ~ ., data = drug_data) %>% \n",
    "                step_scale(all_predictors()) %>% \n",
    "                step_center(all_predictors())\n",
    "drugs_vfold <- vfold_cv(drug_data, v = 5, strata = Cannabis)\n",
    "gridvals <- tibble(neighbors = seq(1, 30))\n",
    "drugs_workflow <- workflow() %>% \n",
    "                  add_recipe(drugs_recipe) %>% \n",
    "                  add_model(drugs_spec) %>% \n",
    "                  tune_grid(resamples = drugs_vfold, grid = gridvals) %>% \n",
    "                  collect_metrics()\n",
    "\n",
    "head(drugs_workflow)"
   ]
  },
  {
   "cell_type": "markdown",
   "metadata": {},
   "source": [
    "Table 5. Table of  accuracy estimates and standard error outputs corresponding to a few different values of K-neighbours."
   ]
  },
  {
   "cell_type": "code",
   "execution_count": 76,
   "metadata": {},
   "outputs": [
    {
     "data": {
      "image/png": "[encoded data removed]",
      "text/plain": [
       "plot without title"
      ]
     },
     "metadata": {
      "image/png": {
       "height": 420,
       "width": 720
      }
     },
     "output_type": "display_data"
    }
   ],
   "source": [
    "\n",
    "# Plotting accuracies\n",
    "options(repr.plot.width = 12, repr.plot.width = 12)\n",
    "accuracy <- filter(drugs_workflow, .metric == \"accuracy\")\n",
    "acc_plot <- ggplot(accuracy, aes(x = neighbors, y = mean)) +\n",
    "            geom_point() +\n",
    "            geom_line() +\n",
    "            labs(x = \"Number of Neighbors\", y = \"Accuracy Estimate\", title = \"Neighbors vs. Accuracy\") +\n",
    "            theme(text = element_text(size = 20)) +\n",
    "            scale_x_continuous(breaks = c(1:30))\n",
    "acc_plot"
   ]
  },
  {
   "cell_type": "markdown",
   "metadata": {},
   "source": [
    "Figure 3. Plot of accuracy estimate versus number of neighbours. Mean accuracy in % for different values of K-neighbours. K = 23 and K = 24 yield the highest accuracies, and after K exceeds 24, accuracy starts to decline."
   ]
  },
  {
   "cell_type": "markdown",
   "metadata": {},
   "source": [
    "From the graph plotted in Figure 8, we can see that the numbers of neighbours that give us the highest mean accuracy is 23 and 24. Because the drop in accuracy from 24 to 25 is much greater than the drop from 23 to 22, we have decided to use 23 as our K. It should be noted that using some other values for K would be just as reasonable in this case, e.g. 21, since the difference in accuracy is less than 1%."
   ]
  },
  {
   "cell_type": "code",
   "execution_count": 77,
   "metadata": {},
   "outputs": [
    {
     "name": "stdout",
     "output_type": "stream",
     "text": [
      "[1] Figure 9\n"
     ]
    },
    {
     "data": {
      "text/html": [
       "<table>\n",
       "<caption>A tibble: 6 × 9</caption>\n",
       "<thead>\n",
       "\t<tr><th scope=col>.pred_class</th><th scope=col>Age</th><th scope=col>Gender</th><th scope=col>Nscore</th><th scope=col>Escore</th><th scope=col>Oscore</th><th scope=col>Ascore</th><th scope=col>Nicotine</th><th scope=col>Cannabis</th></tr>\n",
       "\t<tr><th scope=col>&lt;fct&gt;</th><th scope=col>&lt;dbl&gt;</th><th scope=col>&lt;dbl&gt;</th><th scope=col>&lt;dbl&gt;</th><th scope=col>&lt;dbl&gt;</th><th scope=col>&lt;dbl&gt;</th><th scope=col>&lt;dbl&gt;</th><th scope=col>&lt;dbl&gt;</th><th scope=col>&lt;fct&gt;</th></tr>\n",
       "</thead>\n",
       "<tbody>\n",
       "\t<tr><td>no </td><td>-0.95197</td><td> 0.48246</td><td>-0.14882</td><td>-0.80615</td><td>-0.01928</td><td> 0.59042</td><td>0</td><td>no </td></tr>\n",
       "\t<tr><td>no </td><td> 0.49788</td><td> 0.48246</td><td> 0.73545</td><td>-1.63340</td><td>-0.45174</td><td>-0.30172</td><td>0</td><td>yes</td></tr>\n",
       "\t<tr><td>yes</td><td> 1.82213</td><td> 0.48246</td><td> 2.28554</td><td> 0.16767</td><td> 0.44585</td><td>-1.62090</td><td>1</td><td>yes</td></tr>\n",
       "\t<tr><td>no </td><td> 1.82213</td><td>-0.48246</td><td>-0.14882</td><td> 0.63779</td><td> 1.24033</td><td> 0.76096</td><td>1</td><td>no </td></tr>\n",
       "\t<tr><td>no </td><td> 0.49788</td><td> 0.48246</td><td> 0.04257</td><td>-1.50796</td><td>-0.71727</td><td> 0.28783</td><td>0</td><td>no </td></tr>\n",
       "\t<tr><td>no </td><td> 0.49788</td><td> 0.48246</td><td>-1.19430</td><td>-0.80615</td><td> 0.14143</td><td>-0.60633</td><td>0</td><td>no </td></tr>\n",
       "</tbody>\n",
       "</table>\n"
      ],
      "text/latex": [
       "A tibble: 6 × 9\n",
       "\\begin{tabular}{lllllllll}\n",
       " .pred\\_class & Age & Gender & Nscore & Escore & Oscore & Ascore & Nicotine & Cannabis\\\\\n",
       " <fct> & <dbl> & <dbl> & <dbl> & <dbl> & <dbl> & <dbl> & <dbl> & <fct>\\\\\n",
       "\\hline\n",
       "\t no  & -0.95197 &  0.48246 & -0.14882 & -0.80615 & -0.01928 &  0.59042 & 0 & no \\\\\n",
       "\t no  &  0.49788 &  0.48246 &  0.73545 & -1.63340 & -0.45174 & -0.30172 & 0 & yes\\\\\n",
       "\t yes &  1.82213 &  0.48246 &  2.28554 &  0.16767 &  0.44585 & -1.62090 & 1 & yes\\\\\n",
       "\t no  &  1.82213 & -0.48246 & -0.14882 &  0.63779 &  1.24033 &  0.76096 & 1 & no \\\\\n",
       "\t no  &  0.49788 &  0.48246 &  0.04257 & -1.50796 & -0.71727 &  0.28783 & 0 & no \\\\\n",
       "\t no  &  0.49788 &  0.48246 & -1.19430 & -0.80615 &  0.14143 & -0.60633 & 0 & no \\\\\n",
       "\\end{tabular}\n"
      ],
      "text/markdown": [
       "\n",
       "A tibble: 6 × 9\n",
       "\n",
       "| .pred_class &lt;fct&gt; | Age &lt;dbl&gt; | Gender &lt;dbl&gt; | Nscore &lt;dbl&gt; | Escore &lt;dbl&gt; | Oscore &lt;dbl&gt; | Ascore &lt;dbl&gt; | Nicotine &lt;dbl&gt; | Cannabis &lt;fct&gt; |\n",
       "|---|---|---|---|---|---|---|---|---|\n",
       "| no  | -0.95197 |  0.48246 | -0.14882 | -0.80615 | -0.01928 |  0.59042 | 0 | no  |\n",
       "| no  |  0.49788 |  0.48246 |  0.73545 | -1.63340 | -0.45174 | -0.30172 | 0 | yes |\n",
       "| yes |  1.82213 |  0.48246 |  2.28554 |  0.16767 |  0.44585 | -1.62090 | 1 | yes |\n",
       "| no  |  1.82213 | -0.48246 | -0.14882 |  0.63779 |  1.24033 |  0.76096 | 1 | no  |\n",
       "| no  |  0.49788 |  0.48246 |  0.04257 | -1.50796 | -0.71727 |  0.28783 | 0 | no  |\n",
       "| no  |  0.49788 |  0.48246 | -1.19430 | -0.80615 |  0.14143 | -0.60633 | 0 | no  |\n",
       "\n"
      ],
      "text/plain": [
       "  .pred_class Age      Gender   Nscore   Escore   Oscore   Ascore   Nicotine\n",
       "1 no          -0.95197  0.48246 -0.14882 -0.80615 -0.01928  0.59042 0       \n",
       "2 no           0.49788  0.48246  0.73545 -1.63340 -0.45174 -0.30172 0       \n",
       "3 yes          1.82213  0.48246  2.28554  0.16767  0.44585 -1.62090 1       \n",
       "4 no           1.82213 -0.48246 -0.14882  0.63779  1.24033  0.76096 1       \n",
       "5 no           0.49788  0.48246  0.04257 -1.50796 -0.71727  0.28783 0       \n",
       "6 no           0.49788  0.48246 -1.19430 -0.80615  0.14143 -0.60633 0       \n",
       "  Cannabis\n",
       "1 no      \n",
       "2 yes     \n",
       "3 yes     \n",
       "4 no      \n",
       "5 no      \n",
       "6 no      "
      ]
     },
     "metadata": {},
     "output_type": "display_data"
    }
   ],
   "source": [
    "# Plotting predictions onto original graph\n",
    "print(\"Figure 9\", quote = FALSE)\n",
    "drugs_real_spec <- nearest_neighbor(weight_func = \"rectangular\", neighbors = 23) %>% \n",
    "                   set_engine(\"kknn\") %>%\n",
    "                   set_mode(\"classification\")\n",
    "drugs_real_workflow <- workflow() %>% \n",
    "                       add_recipe(drugs_recipe) %>% \n",
    "                       add_model(drugs_real_spec) %>% \n",
    "                       fit(data = drug_data)\n",
    "drugs_pred <- predict(drugs_real_workflow, testing_drug_data) %>% \n",
    "              bind_cols(testing_drug_data)\n",
    "\n",
    "head(drugs_pred)"
   ]
  },
  {
   "cell_type": "markdown",
   "metadata": {},
   "source": [
    "Table 6. Table of prediction outputs for cannabis use. Predictors except Nicotine are scaled and therefore do not provide a clear indication of what predictor values contribute to suggesting that someone would use/not use cannabis. Nicotine = 1 indicates nicotine use and Nicotine = 0 indicates no nicotine use."
   ]
  },
  {
   "cell_type": "markdown",
   "metadata": {},
   "source": [
    "Now, we pull the final accuracy rate for our classifier. "
   ]
  },
  {
   "cell_type": "code",
   "execution_count": 78,
   "metadata": {},
   "outputs": [
    {
     "data": {
      "text/html": [
       "0.793617021276596"
      ],
      "text/latex": [
       "0.793617021276596"
      ],
      "text/markdown": [
       "0.793617021276596"
      ],
      "text/plain": [
       "[1] 0.793617"
      ]
     },
     "metadata": {},
     "output_type": "display_data"
    }
   ],
   "source": [
    "# Pulling final accuracy for our classifier\n",
    "drug_acc <- drugs_pred %>% \n",
    "            metrics(truth = Cannabis, estimate = .pred_class) %>% \n",
    "            filter(.metric == \"accuracy\") %>% \n",
    "            select(.estimate) %>% \n",
    "            pull()\n",
    "drug_acc"
   ]
  },
  {
   "cell_type": "markdown",
   "metadata": {},
   "source": [
    "The result is an accuracy of approximately 0.794 or 79.4%."
   ]
  },
  {
   "cell_type": "markdown",
   "metadata": {},
   "source": [
    "## **Discussion**\n",
    "### Summary of findings\n",
    "By training our model by performing a 5-fold cross-validation and using 23 as the number of neighbours in our K-nearest neighbours classification algorithm, we were able to predict one's probability of using Cannabis based on age, gender, education and personality scores with a 79.4% accuracy.\n",
    "\n",
    "### Evaluation of findings\n",
    "From our analysis, we expected to find that our predictors as a whole would be able to accurately classify someone's likelihood to be a cannabis user. This was expected due to the fact that all of our predictors have been linked to cannabis use in past research, in particular, personality traits such as Openness and Agreeableness. Previous research has shown that there is a correlation between personality and drug use (Terracciano et al, 2008). The use of the predictor of nicotine, as well as age has also been documented where peer influence in adolescents has also been shown, where nicotine and cannabis were consumed in conjunction with each (Harold et al 2021). \n",
    " \n",
    "What we found matched our forecast: we were able to predict a person's probability of using cannabis with a 79% accuracy rate. Even though this rate is not as accurate as it has been in other studies and also not as high as we initially hoped, we believe it is high enough for us to say that our algorithm can be used in the future with a satisfactorily high degree of certainty in regards to its outputs.\n",
    " \n",
    "### Limitations\n",
    "Despite our findings, there are a few notable shortcomings, namely that we cannot deduce how much one variable alone, for example, nicotine use, affects predicting cannabis use; if we were interested in analyzing that, we would have to make many, many classifications with one variable paired with cannabis use at a time, which unfortunately would not be very practical. Additionally, another flaw, although to a lesser extent would be that our data is somewhat large and we have many predictors, so in choosing to use K-nn classification (which does not perform well in those conditions), our model’s accuracy may have been hindered. Lastly, it's also important to remember that this data was collected mainly from Western countries such as the UK and the US, which likely impact how generalizable our model will be. Thus, if we decide to use this same algorithm with a data set from a non-Western origin, we must be extremely cautious when evaluating the results.\n",
    " \n",
    "### Impact \n",
    "By identifying potential predictors for cannabis use such as personality traits or demographics, this may lead to impacts like being able to identify potential marijuana users, as well as aid in public health modeling and future policy-making regarding Cannabis. This can also potentially spread awareness and education of the drug across communities experiencing drug-use crises. \n",
    " \n",
    "Our findings may also lead to future questions e.g. Are the types of people most likely to use Cannabis also likely to use stronger, or possibly illicit drugs? Do the type of people unlikely to use Cannabis not use any other drugs, or do they prefer some other drug, and if so, which one(s)? Is the likelihood to use a certain drug strongly linked to other demographic factors such as income or country of origin? Finding the answers to these questions may help countries to not only shape their internal approaches to drug-related public policies but also better inform international committees, such as the United Nations Office on Drugs and Crime, on their policy recommendations.\n",
    "\n",
    "\n",
    "## **References**\n",
    " \n",
    "Dash, G. F., Slutske, W. S., Martin, N. G., Statham, D. J., Agrawal, A., & Lynskey, M. T. (2019). Big Five personality traits and alcohol, nicotine, cannabis, and gambling disorder comorbidity. Psychology of Addictive Behaviors, 33(4), 420–429. https://doi.org/10.1037/adb0000468 \n",
    "\n",
    "Digman, J. M. (1990). Personality Structure: Emergence of the Five-Factor Model. Annual Review of Psychology, 41(1), 417–440. https://doi.org/10.1146/annurev.ps.41.020190.002221 \n",
    "\n",
    "Herold, R., Boykan, R., Eliscu, A., Alcala, H. E., & Goniewicz, M. L. (2021). Association between\n",
    "\tfriends' use of nicotine and cannabis and intake of both substances among adolescents.\n",
    "\tInternational Journal of Environmental Research and Public Health, 18(2), 695.\n",
    "\thttps://doi.org/10.3390/ijerph18020695\n",
    "\n",
    "Fehrman, E., Muhammad, A. K., Mirkes, E. M., Egan, V., & Gorban, A. N. (2017). The five factor model of personality and evaluation of drug consumption risk. In F. Palumbo, M. Vichi eds & A. Montanari (Eds.), (pp. 231-242) \n",
    "\n",
    "Terracciano, A., Loeckenhoff, C. E., Crum, R. M., Bienvenu, O. J., & Costa, P. T. (2008). Five-factor model personality profiles of drug users. BMC Psychiatry, 8(1), 22-22. \n"
   ]
  },
  {
   "cell_type": "code",
   "execution_count": null,
   "metadata": {},
   "outputs": [],
   "source": []
  }
 ],
 "metadata": {
  "kernelspec": {
   "display_name": "R",
   "language": "R",
   "name": "ir"
  },
  "language_info": {
   "codemirror_mode": "r",
   "file_extension": ".r",
   "mimetype": "text/x-r-source",
   "name": "R",
   "pygments_lexer": "r",
   "version": "4.0.0"
  }
 },
 "nbformat": 4,
 "nbformat_minor": 4
}
